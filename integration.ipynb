{
 "cells": [
  {
   "attachments": {},
   "cell_type": "markdown",
   "metadata": {},
   "source": [
    "## Integration"
   ]
  },
  {
   "cell_type": "code",
   "execution_count": 2,
   "metadata": {},
   "outputs": [
    {
     "name": "stdout",
     "output_type": "stream",
     "text": [
      "               Time  Proximity  Engine Speed  Pressure\n",
      "2023-01-08 18:15:49      27.64           568    1741.0\n",
      "No anomaly was detected ✅\n",
      "Digital Twin was successfully updated.\n",
      "Proximity: 27.64mm (updated: 2023-01-08T17:15:53.3717640Z)\n",
      "Engine speed: 568RPM (updated: 2023-01-08T17:15:53.8112257Z)\n",
      "Pressure: 1741bar (updated: 2023-01-08T17:15:54.0060955Z)\n"
     ]
    },
    {
     "data": {
      "image/png": "[encoded data removed]",
      "text/plain": [
       "<Figure size 432x288 with 3 Axes>"
      ]
     },
     "metadata": {
      "needs_background": "light"
     },
     "output_type": "display_data"
    }
   ],
   "source": [
    "# Integration of entire pipeline\n",
    "def integration(send_to_twin = False):\n",
    "    # Load libraries\n",
    "    import data_simulation as ds\n",
    "    import machine_learning as ml\n",
    "    import azure_digital_twin as adt\n",
    "    \n",
    "    # Iterate through real-time data simulation\n",
    "    for i in ds.simulate_real_time(0.1, 0.1, 0.1, 0.5):\n",
    "        # Print data\n",
    "        print(i[[\"Time\", \"Proximity\", \"Engine Speed\", \"Pressure\"]].to_string(index = False))\n",
    "\n",
    "         # Send data to Digital Twin\n",
    "        if send_to_twin == True:\n",
    "            # Check data for anomalies (\"correct\" refers to correct data)\n",
    "            if ml.detect_anomalies(i[[\"Proximity\", \"Engine Speed\", \"Pressure\"]]) == \"correct\":\n",
    "                # Update digital twin\n",
    "                adt.set_proximity(float(i[\"Proximity\"]))\n",
    "                adt.set_engine_speed(int(i[\"Engine Speed\"]))\n",
    "                adt.set_pressure(int(i[\"Pressure\"]))\n",
    "\n",
    "                # Print success message\n",
    "                print(\"Digital Twin was successfully updated.\")\n",
    "                \n",
    "                # Check updated values\n",
    "                adt.print_proximity()\n",
    "                adt.print_engine_speed()\n",
    "                adt.print_pressure()\n",
    "\n",
    "                # Visualize state of the digital twin\n",
    "                adt.plot_sensor_values()\n",
    "            else:\n",
    "                # Print failure message\n",
    "                print(\"Digital Twin was not updated.\")\n",
    "                clear_output(wait=True)\n",
    "\n",
    "integration(send_to_twin = True)"
   ]
  },
  {
   "cell_type": "code",
   "execution_count": null,
   "metadata": {},
   "outputs": [],
   "source": []
  }
 ],
 "metadata": {
  "kernelspec": {
   "display_name": "Python 3.10.0 64-bit",
   "language": "python",
   "name": "python3"
  },
  "language_info": {
   "codemirror_mode": {
    "name": "ipython",
    "version": 3
   },
   "file_extension": ".py",
   "mimetype": "text/x-python",
   "name": "python",
   "nbconvert_exporter": "python",
   "pygments_lexer": "ipython3",
   "version": "3.10.0 (v3.10.0:b494f5935c, Oct  4 2021, 14:59:19) [Clang 12.0.5 (clang-1205.0.22.11)]"
  },
  "orig_nbformat": 4,
  "vscode": {
   "interpreter": {
    "hash": "aee8b7b246df8f9039afb4144a1f6fd8d2ca17a180786b69acc140d282b71a49"
   }
  }
 },
 "nbformat": 4,
 "nbformat_minor": 2
}
