{
 "cells": [
  {
   "attachments": {},
   "cell_type": "markdown",
   "metadata": {},
   "source": [
    "## Machine learning"
   ]
  },
  {
   "attachments": {},
   "cell_type": "markdown",
   "metadata": {},
   "source": [
    "Note: this notebook is structured according the six phases of the CRISP-DM model: business understanding, data understanding, data preparation, modeling, evaluation and deployment."
   ]
  },
  {
   "attachments": {},
   "cell_type": "markdown",
   "metadata": {},
   "source": [
    "### Business understanding\n",
    "\n",
    "<i>Problems:</i>\n",
    "* How can the the utility of Digital Twins be increased and the validity of decisions based on Digital Twins be improved?\n",
    "* How can the security and integrity of input data streams be improved?\n",
    "* How can data irregularities of Digital Twin input data be detected (predicted) based on historical data?\n",
    "\n",
    "<i>Objective:</i>\n",
    "* Detect at least 75% of data anomalies by using a rule-based definition of correct behaviors (supported by unsupervised learning), supervised learning based on training data, or a combination of both.\n",
    "\n",
    "<i>Requirements:</i>\n",
    "\n",
    "* Choose data that is close to the use case.\n",
    "* For supervised learning, use training data that contains known anomalies.\n",
    "* Design the ML pipeline with generalizability in mind, so that it can accept data from different users as input and provide similar performance (provided that the data contains sensor measurements from related use cases)."
   ]
  },
  {
   "attachments": {},
   "cell_type": "markdown",
   "id": "5a2d4d77",
   "metadata": {},
   "source": [
    "### Data understanding\n",
    "\n",
    "<i>Collection:</i> First, we are importing the data."
   ]
  },
  {
   "cell_type": "code",
   "execution_count": 20,
   "id": "6a9979df",
   "metadata": {},
   "outputs": [],
   "source": [
    "import pandas as pd\n",
    "import seaborn as sns\n",
    "data = pd.read_csv(\"data/data.csv\")"
   ]
  },
  {
   "attachments": {},
   "cell_type": "markdown",
   "id": "3809aac1",
   "metadata": {},
   "source": [
    "<i>Description:</i> We are having a look at the attributes, structure and content of the data."
   ]
  },
  {
   "cell_type": "code",
   "execution_count": 21,
   "id": "f8336b3a",
   "metadata": {},
   "outputs": [
    {
     "data": {
      "text/html": [
       "<div>\n",
       "<style scoped>\n",
       "    .dataframe tbody tr th:only-of-type {\n",
       "        vertical-align: middle;\n",
       "    }\n",
       "\n",
       "    .dataframe tbody tr th {\n",
       "        vertical-align: top;\n",
       "    }\n",
       "\n",
       "    .dataframe thead th {\n",
       "        text-align: right;\n",
       "    }\n",
       "</style>\n",
       "<table border=\"1\" class=\"dataframe\">\n",
       "  <thead>\n",
       "    <tr style=\"text-align: right;\">\n",
       "      <th></th>\n",
       "      <th>Time</th>\n",
       "      <th>Proximity</th>\n",
       "      <th>Engine Speed</th>\n",
       "      <th>Pressure</th>\n",
       "      <th>Label</th>\n",
       "    </tr>\n",
       "  </thead>\n",
       "  <tbody>\n",
       "    <tr>\n",
       "      <th>0</th>\n",
       "      <td>2022-01-01 00:00:00</td>\n",
       "      <td>28.15</td>\n",
       "      <td>611.0</td>\n",
       "      <td>1627.0</td>\n",
       "      <td>correct</td>\n",
       "    </tr>\n",
       "    <tr>\n",
       "      <th>1</th>\n",
       "      <td>2022-01-01 00:00:05</td>\n",
       "      <td>20.68</td>\n",
       "      <td>533.0</td>\n",
       "      <td>1918.0</td>\n",
       "      <td>correct</td>\n",
       "    </tr>\n",
       "    <tr>\n",
       "      <th>2</th>\n",
       "      <td>2022-01-01 00:00:10</td>\n",
       "      <td>19.38</td>\n",
       "      <td>659.0</td>\n",
       "      <td>1743.0</td>\n",
       "      <td>correct</td>\n",
       "    </tr>\n",
       "    <tr>\n",
       "      <th>3</th>\n",
       "      <td>2022-01-01 00:00:15</td>\n",
       "      <td>7.30</td>\n",
       "      <td>584.0</td>\n",
       "      <td>1612.0</td>\n",
       "      <td>correct</td>\n",
       "    </tr>\n",
       "    <tr>\n",
       "      <th>4</th>\n",
       "      <td>2022-01-01 00:00:20</td>\n",
       "      <td>6.00</td>\n",
       "      <td>1709.0</td>\n",
       "      <td>2038.0</td>\n",
       "      <td>correct</td>\n",
       "    </tr>\n",
       "    <tr>\n",
       "      <th>...</th>\n",
       "      <td>...</td>\n",
       "      <td>...</td>\n",
       "      <td>...</td>\n",
       "      <td>...</td>\n",
       "      <td>...</td>\n",
       "    </tr>\n",
       "    <tr>\n",
       "      <th>1199995</th>\n",
       "      <td>2022-03-11 10:39:35</td>\n",
       "      <td>5.99</td>\n",
       "      <td>6642.0</td>\n",
       "      <td>4874.0</td>\n",
       "      <td>correct</td>\n",
       "    </tr>\n",
       "    <tr>\n",
       "      <th>1199996</th>\n",
       "      <td>2022-03-11 10:39:40</td>\n",
       "      <td>7.38</td>\n",
       "      <td>3978.0</td>\n",
       "      <td>3339.0</td>\n",
       "      <td>correct</td>\n",
       "    </tr>\n",
       "    <tr>\n",
       "      <th>1199997</th>\n",
       "      <td>2022-03-11 10:39:45</td>\n",
       "      <td>16.40</td>\n",
       "      <td>1950.0</td>\n",
       "      <td>2580.0</td>\n",
       "      <td>correct</td>\n",
       "    </tr>\n",
       "    <tr>\n",
       "      <th>1199998</th>\n",
       "      <td>2022-03-11 10:39:50</td>\n",
       "      <td>24.70</td>\n",
       "      <td>1801.0</td>\n",
       "      <td>1713.0</td>\n",
       "      <td>correct</td>\n",
       "    </tr>\n",
       "    <tr>\n",
       "      <th>1199999</th>\n",
       "      <td>2022-03-11 10:39:55</td>\n",
       "      <td>28.91</td>\n",
       "      <td>604.0</td>\n",
       "      <td>1711.0</td>\n",
       "      <td>correct</td>\n",
       "    </tr>\n",
       "  </tbody>\n",
       "</table>\n",
       "<p>1200000 rows × 5 columns</p>\n",
       "</div>"
      ],
      "text/plain": [
       "                        Time  Proximity  Engine Speed  Pressure    Label\n",
       "0        2022-01-01 00:00:00      28.15         611.0    1627.0  correct\n",
       "1        2022-01-01 00:00:05      20.68         533.0    1918.0  correct\n",
       "2        2022-01-01 00:00:10      19.38         659.0    1743.0  correct\n",
       "3        2022-01-01 00:00:15       7.30         584.0    1612.0  correct\n",
       "4        2022-01-01 00:00:20       6.00        1709.0    2038.0  correct\n",
       "...                      ...        ...           ...       ...      ...\n",
       "1199995  2022-03-11 10:39:35       5.99        6642.0    4874.0  correct\n",
       "1199996  2022-03-11 10:39:40       7.38        3978.0    3339.0  correct\n",
       "1199997  2022-03-11 10:39:45      16.40        1950.0    2580.0  correct\n",
       "1199998  2022-03-11 10:39:50      24.70        1801.0    1713.0  correct\n",
       "1199999  2022-03-11 10:39:55      28.91         604.0    1711.0  correct\n",
       "\n",
       "[1200000 rows x 5 columns]"
      ]
     },
     "execution_count": 21,
     "metadata": {},
     "output_type": "execute_result"
    }
   ],
   "source": [
    "data"
   ]
  },
  {
   "cell_type": "code",
   "execution_count": 22,
   "id": "fd72bd33",
   "metadata": {},
   "outputs": [
    {
     "name": "stdout",
     "output_type": "stream",
     "text": [
      "<class 'pandas.core.frame.DataFrame'>\n",
      "RangeIndex: 1200000 entries, 0 to 1199999\n",
      "Data columns (total 5 columns):\n",
      " #   Column        Non-Null Count    Dtype  \n",
      "---  ------        --------------    -----  \n",
      " 0   Time          1200000 non-null  object \n",
      " 1   Proximity     1200000 non-null  float64\n",
      " 2   Engine Speed  1200000 non-null  float64\n",
      " 3   Pressure      1200000 non-null  float64\n",
      " 4   Label         1200000 non-null  object \n",
      "dtypes: float64(3), object(2)\n",
      "memory usage: 45.8+ MB\n"
     ]
    }
   ],
   "source": [
    "data.info()"
   ]
  },
  {
   "cell_type": "code",
   "execution_count": 23,
   "id": "c563a0c1",
   "metadata": {},
   "outputs": [
    {
     "data": {
      "text/html": [
       "<div>\n",
       "<style scoped>\n",
       "    .dataframe tbody tr th:only-of-type {\n",
       "        vertical-align: middle;\n",
       "    }\n",
       "\n",
       "    .dataframe tbody tr th {\n",
       "        vertical-align: top;\n",
       "    }\n",
       "\n",
       "    .dataframe thead th {\n",
       "        text-align: right;\n",
       "    }\n",
       "</style>\n",
       "<table border=\"1\" class=\"dataframe\">\n",
       "  <thead>\n",
       "    <tr style=\"text-align: right;\">\n",
       "      <th></th>\n",
       "      <th>Proximity</th>\n",
       "      <th>Engine Speed</th>\n",
       "      <th>Pressure</th>\n",
       "    </tr>\n",
       "  </thead>\n",
       "  <tbody>\n",
       "    <tr>\n",
       "      <th>count</th>\n",
       "      <td>1.200000e+06</td>\n",
       "      <td>1.200000e+06</td>\n",
       "      <td>1.200000e+06</td>\n",
       "    </tr>\n",
       "    <tr>\n",
       "      <th>mean</th>\n",
       "      <td>1.749798e+01</td>\n",
       "      <td>2.602174e+03</td>\n",
       "      <td>2.920478e+03</td>\n",
       "    </tr>\n",
       "    <tr>\n",
       "      <th>std</th>\n",
       "      <td>4.020355e+01</td>\n",
       "      <td>4.430898e+03</td>\n",
       "      <td>4.102596e+03</td>\n",
       "    </tr>\n",
       "    <tr>\n",
       "      <th>min</th>\n",
       "      <td>-8.700000e-01</td>\n",
       "      <td>5.025000e+01</td>\n",
       "      <td>1.600000e-01</td>\n",
       "    </tr>\n",
       "    <tr>\n",
       "      <th>25%</th>\n",
       "      <td>5.990000e+00</td>\n",
       "      <td>6.170000e+02</td>\n",
       "      <td>1.760000e+03</td>\n",
       "    </tr>\n",
       "    <tr>\n",
       "      <th>50%</th>\n",
       "      <td>1.419000e+01</td>\n",
       "      <td>1.551000e+03</td>\n",
       "      <td>2.052000e+03</td>\n",
       "    </tr>\n",
       "    <tr>\n",
       "      <th>75%</th>\n",
       "      <td>2.343000e+01</td>\n",
       "      <td>3.801000e+03</td>\n",
       "      <td>3.115000e+03</td>\n",
       "    </tr>\n",
       "    <tr>\n",
       "      <th>max</th>\n",
       "      <td>9.979500e+02</td>\n",
       "      <td>9.995924e+04</td>\n",
       "      <td>9.999021e+04</td>\n",
       "    </tr>\n",
       "  </tbody>\n",
       "</table>\n",
       "</div>"
      ],
      "text/plain": [
       "          Proximity  Engine Speed      Pressure\n",
       "count  1.200000e+06  1.200000e+06  1.200000e+06\n",
       "mean   1.749798e+01  2.602174e+03  2.920478e+03\n",
       "std    4.020355e+01  4.430898e+03  4.102596e+03\n",
       "min   -8.700000e-01  5.025000e+01  1.600000e-01\n",
       "25%    5.990000e+00  6.170000e+02  1.760000e+03\n",
       "50%    1.419000e+01  1.551000e+03  2.052000e+03\n",
       "75%    2.343000e+01  3.801000e+03  3.115000e+03\n",
       "max    9.979500e+02  9.995924e+04  9.999021e+04"
      ]
     },
     "execution_count": 23,
     "metadata": {},
     "output_type": "execute_result"
    }
   ],
   "source": [
    "data.describe()"
   ]
  },
  {
   "cell_type": "code",
   "execution_count": 24,
   "metadata": {},
   "outputs": [
    {
     "name": "stdout",
     "output_type": "stream",
     "text": [
      "Rows with label \"correct\": 1164229 (97.02%)\n",
      "Rows with label \"anomaly\": 35771 (2.98%)\n"
     ]
    }
   ],
   "source": [
    "print(f'Rows with label \"correct\": {len(data[data[\"Label\"] == \"correct\"])} ({round(len(data[data[\"Label\"] == \"correct\"]) / len(data) * 100, 2)}%)')\n",
    "print(f'Rows with label \"anomaly\": {len(data[data[\"Label\"] == \"anomaly\"])} ({round(len(data[data[\"Label\"] == \"anomaly\"]) / len(data) * 100, 2)}%)')"
   ]
  },
  {
   "attachments": {},
   "cell_type": "markdown",
   "id": "9e3977b8",
   "metadata": {},
   "source": [
    "<i>Exploration:</i>\n",
    "\n",
    "We are trying to find outliers, duplicates and missing values through visualizations and certain helper functions."
   ]
  },
  {
   "cell_type": "code",
   "execution_count": 25,
   "id": "7f8e62bf",
   "metadata": {},
   "outputs": [
    {
     "data": {
      "text/plain": [
       "Time            0\n",
       "Proximity       0\n",
       "Engine Speed    0\n",
       "Pressure        0\n",
       "Label           0\n",
       "dtype: int64"
      ]
     },
     "execution_count": 25,
     "metadata": {},
     "output_type": "execute_result"
    }
   ],
   "source": [
    "data.isnull().sum()"
   ]
  },
  {
   "cell_type": "code",
   "execution_count": 26,
   "metadata": {},
   "outputs": [
    {
     "name": "stdout",
     "output_type": "stream",
     "text": [
      "8351\n",
      "12222\n",
      "10412\n"
     ]
    }
   ],
   "source": [
    "print(len(data[\"Proximity\"].unique()))\n",
    "print(len(data[\"Engine Speed\"].unique()))\n",
    "print(len(data[\"Pressure\"].unique()))"
   ]
  },
  {
   "cell_type": "code",
   "execution_count": 27,
   "metadata": {},
   "outputs": [
    {
     "data": {
      "text/html": [
       "<div>\n",
       "<style scoped>\n",
       "    .dataframe tbody tr th:only-of-type {\n",
       "        vertical-align: middle;\n",
       "    }\n",
       "\n",
       "    .dataframe tbody tr th {\n",
       "        vertical-align: top;\n",
       "    }\n",
       "\n",
       "    .dataframe thead th {\n",
       "        text-align: right;\n",
       "    }\n",
       "</style>\n",
       "<table border=\"1\" class=\"dataframe\">\n",
       "  <thead>\n",
       "    <tr style=\"text-align: right;\">\n",
       "      <th></th>\n",
       "      <th>Time</th>\n",
       "      <th>Proximity</th>\n",
       "      <th>Engine Speed</th>\n",
       "      <th>Pressure</th>\n",
       "      <th>Label</th>\n",
       "    </tr>\n",
       "  </thead>\n",
       "  <tbody>\n",
       "    <tr>\n",
       "      <th>0</th>\n",
       "      <td>2022-01-01 00:00:00</td>\n",
       "      <td>28.15</td>\n",
       "      <td>611.0</td>\n",
       "      <td>1627.0</td>\n",
       "      <td>correct</td>\n",
       "    </tr>\n",
       "    <tr>\n",
       "      <th>1</th>\n",
       "      <td>2022-01-01 00:00:05</td>\n",
       "      <td>20.68</td>\n",
       "      <td>533.0</td>\n",
       "      <td>1918.0</td>\n",
       "      <td>correct</td>\n",
       "    </tr>\n",
       "    <tr>\n",
       "      <th>2</th>\n",
       "      <td>2022-01-01 00:00:10</td>\n",
       "      <td>19.38</td>\n",
       "      <td>659.0</td>\n",
       "      <td>1743.0</td>\n",
       "      <td>correct</td>\n",
       "    </tr>\n",
       "    <tr>\n",
       "      <th>3</th>\n",
       "      <td>2022-01-01 00:00:15</td>\n",
       "      <td>7.30</td>\n",
       "      <td>584.0</td>\n",
       "      <td>1612.0</td>\n",
       "      <td>correct</td>\n",
       "    </tr>\n",
       "    <tr>\n",
       "      <th>4</th>\n",
       "      <td>2022-01-01 00:00:20</td>\n",
       "      <td>6.00</td>\n",
       "      <td>1709.0</td>\n",
       "      <td>2038.0</td>\n",
       "      <td>correct</td>\n",
       "    </tr>\n",
       "    <tr>\n",
       "      <th>...</th>\n",
       "      <td>...</td>\n",
       "      <td>...</td>\n",
       "      <td>...</td>\n",
       "      <td>...</td>\n",
       "      <td>...</td>\n",
       "    </tr>\n",
       "    <tr>\n",
       "      <th>1199995</th>\n",
       "      <td>2022-03-11 10:39:35</td>\n",
       "      <td>5.99</td>\n",
       "      <td>6642.0</td>\n",
       "      <td>4874.0</td>\n",
       "      <td>correct</td>\n",
       "    </tr>\n",
       "    <tr>\n",
       "      <th>1199996</th>\n",
       "      <td>2022-03-11 10:39:40</td>\n",
       "      <td>7.38</td>\n",
       "      <td>3978.0</td>\n",
       "      <td>3339.0</td>\n",
       "      <td>correct</td>\n",
       "    </tr>\n",
       "    <tr>\n",
       "      <th>1199997</th>\n",
       "      <td>2022-03-11 10:39:45</td>\n",
       "      <td>16.40</td>\n",
       "      <td>1950.0</td>\n",
       "      <td>2580.0</td>\n",
       "      <td>correct</td>\n",
       "    </tr>\n",
       "    <tr>\n",
       "      <th>1199998</th>\n",
       "      <td>2022-03-11 10:39:50</td>\n",
       "      <td>24.70</td>\n",
       "      <td>1801.0</td>\n",
       "      <td>1713.0</td>\n",
       "      <td>correct</td>\n",
       "    </tr>\n",
       "    <tr>\n",
       "      <th>1199999</th>\n",
       "      <td>2022-03-11 10:39:55</td>\n",
       "      <td>28.91</td>\n",
       "      <td>604.0</td>\n",
       "      <td>1711.0</td>\n",
       "      <td>correct</td>\n",
       "    </tr>\n",
       "  </tbody>\n",
       "</table>\n",
       "<p>1194335 rows × 5 columns</p>\n",
       "</div>"
      ],
      "text/plain": [
       "                        Time  Proximity  Engine Speed  Pressure    Label\n",
       "0        2022-01-01 00:00:00      28.15         611.0    1627.0  correct\n",
       "1        2022-01-01 00:00:05      20.68         533.0    1918.0  correct\n",
       "2        2022-01-01 00:00:10      19.38         659.0    1743.0  correct\n",
       "3        2022-01-01 00:00:15       7.30         584.0    1612.0  correct\n",
       "4        2022-01-01 00:00:20       6.00        1709.0    2038.0  correct\n",
       "...                      ...        ...           ...       ...      ...\n",
       "1199995  2022-03-11 10:39:35       5.99        6642.0    4874.0  correct\n",
       "1199996  2022-03-11 10:39:40       7.38        3978.0    3339.0  correct\n",
       "1199997  2022-03-11 10:39:45      16.40        1950.0    2580.0  correct\n",
       "1199998  2022-03-11 10:39:50      24.70        1801.0    1713.0  correct\n",
       "1199999  2022-03-11 10:39:55      28.91         604.0    1711.0  correct\n",
       "\n",
       "[1194335 rows x 5 columns]"
      ]
     },
     "execution_count": 27,
     "metadata": {},
     "output_type": "execute_result"
    }
   ],
   "source": [
    "data[data.duplicated([\"Proximity\"], keep=False)]"
   ]
  },
  {
   "cell_type": "code",
   "execution_count": 28,
   "metadata": {},
   "outputs": [
    {
     "data": {
      "text/html": [
       "<div>\n",
       "<style scoped>\n",
       "    .dataframe tbody tr th:only-of-type {\n",
       "        vertical-align: middle;\n",
       "    }\n",
       "\n",
       "    .dataframe tbody tr th {\n",
       "        vertical-align: top;\n",
       "    }\n",
       "\n",
       "    .dataframe thead th {\n",
       "        text-align: right;\n",
       "    }\n",
       "</style>\n",
       "<table border=\"1\" class=\"dataframe\">\n",
       "  <thead>\n",
       "    <tr style=\"text-align: right;\">\n",
       "      <th></th>\n",
       "      <th>Time</th>\n",
       "      <th>Proximity</th>\n",
       "      <th>Engine Speed</th>\n",
       "      <th>Pressure</th>\n",
       "      <th>Label</th>\n",
       "    </tr>\n",
       "  </thead>\n",
       "  <tbody>\n",
       "    <tr>\n",
       "      <th>0</th>\n",
       "      <td>2022-01-01 00:00:00</td>\n",
       "      <td>28.15</td>\n",
       "      <td>611.0</td>\n",
       "      <td>1627.0</td>\n",
       "      <td>correct</td>\n",
       "    </tr>\n",
       "    <tr>\n",
       "      <th>1</th>\n",
       "      <td>2022-01-01 00:00:05</td>\n",
       "      <td>20.68</td>\n",
       "      <td>533.0</td>\n",
       "      <td>1918.0</td>\n",
       "      <td>correct</td>\n",
       "    </tr>\n",
       "    <tr>\n",
       "      <th>2</th>\n",
       "      <td>2022-01-01 00:00:10</td>\n",
       "      <td>19.38</td>\n",
       "      <td>659.0</td>\n",
       "      <td>1743.0</td>\n",
       "      <td>correct</td>\n",
       "    </tr>\n",
       "    <tr>\n",
       "      <th>3</th>\n",
       "      <td>2022-01-01 00:00:15</td>\n",
       "      <td>7.30</td>\n",
       "      <td>584.0</td>\n",
       "      <td>1612.0</td>\n",
       "      <td>correct</td>\n",
       "    </tr>\n",
       "    <tr>\n",
       "      <th>4</th>\n",
       "      <td>2022-01-01 00:00:20</td>\n",
       "      <td>6.00</td>\n",
       "      <td>1709.0</td>\n",
       "      <td>2038.0</td>\n",
       "      <td>correct</td>\n",
       "    </tr>\n",
       "    <tr>\n",
       "      <th>...</th>\n",
       "      <td>...</td>\n",
       "      <td>...</td>\n",
       "      <td>...</td>\n",
       "      <td>...</td>\n",
       "      <td>...</td>\n",
       "    </tr>\n",
       "    <tr>\n",
       "      <th>1199990</th>\n",
       "      <td>2022-03-11 10:39:10</td>\n",
       "      <td>17.73</td>\n",
       "      <td>561.0</td>\n",
       "      <td>1761.0</td>\n",
       "      <td>correct</td>\n",
       "    </tr>\n",
       "    <tr>\n",
       "      <th>1199991</th>\n",
       "      <td>2022-03-11 10:39:15</td>\n",
       "      <td>10.68</td>\n",
       "      <td>605.0</td>\n",
       "      <td>1620.0</td>\n",
       "      <td>correct</td>\n",
       "    </tr>\n",
       "    <tr>\n",
       "      <th>1199993</th>\n",
       "      <td>2022-03-11 10:39:25</td>\n",
       "      <td>5.98</td>\n",
       "      <td>3342.0</td>\n",
       "      <td>2806.0</td>\n",
       "      <td>correct</td>\n",
       "    </tr>\n",
       "    <tr>\n",
       "      <th>1199998</th>\n",
       "      <td>2022-03-11 10:39:50</td>\n",
       "      <td>24.70</td>\n",
       "      <td>1801.0</td>\n",
       "      <td>1713.0</td>\n",
       "      <td>correct</td>\n",
       "    </tr>\n",
       "    <tr>\n",
       "      <th>1199999</th>\n",
       "      <td>2022-03-11 10:39:55</td>\n",
       "      <td>28.91</td>\n",
       "      <td>604.0</td>\n",
       "      <td>1711.0</td>\n",
       "      <td>correct</td>\n",
       "    </tr>\n",
       "  </tbody>\n",
       "</table>\n",
       "<p>592021 rows × 5 columns</p>\n",
       "</div>"
      ],
      "text/plain": [
       "                        Time  Proximity  Engine Speed  Pressure    Label\n",
       "0        2022-01-01 00:00:00      28.15         611.0    1627.0  correct\n",
       "1        2022-01-01 00:00:05      20.68         533.0    1918.0  correct\n",
       "2        2022-01-01 00:00:10      19.38         659.0    1743.0  correct\n",
       "3        2022-01-01 00:00:15       7.30         584.0    1612.0  correct\n",
       "4        2022-01-01 00:00:20       6.00        1709.0    2038.0  correct\n",
       "...                      ...        ...           ...       ...      ...\n",
       "1199990  2022-03-11 10:39:10      17.73         561.0    1761.0  correct\n",
       "1199991  2022-03-11 10:39:15      10.68         605.0    1620.0  correct\n",
       "1199993  2022-03-11 10:39:25       5.98        3342.0    2806.0  correct\n",
       "1199998  2022-03-11 10:39:50      24.70        1801.0    1713.0  correct\n",
       "1199999  2022-03-11 10:39:55      28.91         604.0    1711.0  correct\n",
       "\n",
       "[592021 rows x 5 columns]"
      ]
     },
     "execution_count": 28,
     "metadata": {},
     "output_type": "execute_result"
    }
   ],
   "source": [
    "data[data.duplicated([\"Engine Speed\", \"Pressure\"], keep=False)]"
   ]
  },
  {
   "cell_type": "code",
   "execution_count": 29,
   "metadata": {},
   "outputs": [
    {
     "data": {
      "text/html": [
       "<div>\n",
       "<style scoped>\n",
       "    .dataframe tbody tr th:only-of-type {\n",
       "        vertical-align: middle;\n",
       "    }\n",
       "\n",
       "    .dataframe tbody tr th {\n",
       "        vertical-align: top;\n",
       "    }\n",
       "\n",
       "    .dataframe thead th {\n",
       "        text-align: right;\n",
       "    }\n",
       "</style>\n",
       "<table border=\"1\" class=\"dataframe\">\n",
       "  <thead>\n",
       "    <tr style=\"text-align: right;\">\n",
       "      <th></th>\n",
       "      <th>Time</th>\n",
       "      <th>Proximity</th>\n",
       "      <th>Engine Speed</th>\n",
       "      <th>Pressure</th>\n",
       "      <th>Label</th>\n",
       "    </tr>\n",
       "  </thead>\n",
       "  <tbody>\n",
       "    <tr>\n",
       "      <th>16</th>\n",
       "      <td>2022-01-01 00:01:20</td>\n",
       "      <td>5.98</td>\n",
       "      <td>1406.0</td>\n",
       "      <td>2471.0</td>\n",
       "      <td>correct</td>\n",
       "    </tr>\n",
       "    <tr>\n",
       "      <th>114</th>\n",
       "      <td>2022-01-01 00:09:30</td>\n",
       "      <td>5.96</td>\n",
       "      <td>6675.0</td>\n",
       "      <td>4929.0</td>\n",
       "      <td>correct</td>\n",
       "    </tr>\n",
       "    <tr>\n",
       "      <th>802</th>\n",
       "      <td>2022-01-01 01:06:50</td>\n",
       "      <td>24.68</td>\n",
       "      <td>1861.0</td>\n",
       "      <td>1798.0</td>\n",
       "      <td>correct</td>\n",
       "    </tr>\n",
       "    <tr>\n",
       "      <th>870</th>\n",
       "      <td>2022-01-01 01:12:30</td>\n",
       "      <td>5.95</td>\n",
       "      <td>6071.0</td>\n",
       "      <td>5216.0</td>\n",
       "      <td>correct</td>\n",
       "    </tr>\n",
       "    <tr>\n",
       "      <th>919</th>\n",
       "      <td>2022-01-01 01:16:35</td>\n",
       "      <td>5.98</td>\n",
       "      <td>5978.0</td>\n",
       "      <td>4941.0</td>\n",
       "      <td>correct</td>\n",
       "    </tr>\n",
       "    <tr>\n",
       "      <th>...</th>\n",
       "      <td>...</td>\n",
       "      <td>...</td>\n",
       "      <td>...</td>\n",
       "      <td>...</td>\n",
       "      <td>...</td>\n",
       "    </tr>\n",
       "    <tr>\n",
       "      <th>1199801</th>\n",
       "      <td>2022-03-11 10:23:25</td>\n",
       "      <td>5.98</td>\n",
       "      <td>3566.0</td>\n",
       "      <td>3001.0</td>\n",
       "      <td>correct</td>\n",
       "    </tr>\n",
       "    <tr>\n",
       "      <th>1199802</th>\n",
       "      <td>2022-03-11 10:23:30</td>\n",
       "      <td>5.99</td>\n",
       "      <td>6723.0</td>\n",
       "      <td>5071.0</td>\n",
       "      <td>correct</td>\n",
       "    </tr>\n",
       "    <tr>\n",
       "      <th>1199811</th>\n",
       "      <td>2022-03-11 10:24:15</td>\n",
       "      <td>8.72</td>\n",
       "      <td>596.0</td>\n",
       "      <td>1703.0</td>\n",
       "      <td>correct</td>\n",
       "    </tr>\n",
       "    <tr>\n",
       "      <th>1199908</th>\n",
       "      <td>2022-03-11 10:32:20</td>\n",
       "      <td>5.96</td>\n",
       "      <td>1170.0</td>\n",
       "      <td>2431.0</td>\n",
       "      <td>correct</td>\n",
       "    </tr>\n",
       "    <tr>\n",
       "      <th>1199921</th>\n",
       "      <td>2022-03-11 10:33:25</td>\n",
       "      <td>5.98</td>\n",
       "      <td>3013.0</td>\n",
       "      <td>3230.0</td>\n",
       "      <td>correct</td>\n",
       "    </tr>\n",
       "  </tbody>\n",
       "</table>\n",
       "<p>13348 rows × 5 columns</p>\n",
       "</div>"
      ],
      "text/plain": [
       "                        Time  Proximity  Engine Speed  Pressure    Label\n",
       "16       2022-01-01 00:01:20       5.98        1406.0    2471.0  correct\n",
       "114      2022-01-01 00:09:30       5.96        6675.0    4929.0  correct\n",
       "802      2022-01-01 01:06:50      24.68        1861.0    1798.0  correct\n",
       "870      2022-01-01 01:12:30       5.95        6071.0    5216.0  correct\n",
       "919      2022-01-01 01:16:35       5.98        5978.0    4941.0  correct\n",
       "...                      ...        ...           ...       ...      ...\n",
       "1199801  2022-03-11 10:23:25       5.98        3566.0    3001.0  correct\n",
       "1199802  2022-03-11 10:23:30       5.99        6723.0    5071.0  correct\n",
       "1199811  2022-03-11 10:24:15       8.72         596.0    1703.0  correct\n",
       "1199908  2022-03-11 10:32:20       5.96        1170.0    2431.0  correct\n",
       "1199921  2022-03-11 10:33:25       5.98        3013.0    3230.0  correct\n",
       "\n",
       "[13348 rows x 5 columns]"
      ]
     },
     "execution_count": 29,
     "metadata": {},
     "output_type": "execute_result"
    }
   ],
   "source": [
    "data[data.duplicated([\"Proximity\", \"Engine Speed\", \"Pressure\"], keep=False)]"
   ]
  },
  {
   "cell_type": "code",
   "execution_count": 30,
   "id": "97682e94",
   "metadata": {},
   "outputs": [
    {
     "data": {
      "text/plain": [
       "<AxesSubplot: >"
      ]
     },
     "execution_count": 30,
     "metadata": {},
     "output_type": "execute_result"
    },
    {
     "data": {
      "image/png": "[encoded data removed]",
      "text/plain": [
       "<Figure size 1008x720 with 1 Axes>"
      ]
     },
     "metadata": {},
     "output_type": "display_data"
    }
   ],
   "source": [
    "sns.set(rc={'figure.figsize':(14,10)})\n",
    "sns.boxplot(data = data, width = 0.5, showfliers = True)"
   ]
  },
  {
   "cell_type": "code",
   "execution_count": 31,
   "metadata": {},
   "outputs": [
    {
     "data": {
      "text/plain": [
       "<AxesSubplot: xlabel='Proximity'>"
      ]
     },
     "execution_count": 31,
     "metadata": {},
     "output_type": "execute_result"
    },
    {
     "data": {
      "image/png": "[encoded data removed]",
      "text/plain": [
       "<Figure size 576x576 with 1 Axes>"
      ]
     },
     "metadata": {},
     "output_type": "display_data"
    }
   ],
   "source": [
    "sns.set(rc={'figure.figsize':(8,8)})\n",
    "sns.boxplot(x=data[\"Proximity\"], width = 0.5, orient = \"h\", showfliers = False)"
   ]
  },
  {
   "cell_type": "code",
   "execution_count": 32,
   "metadata": {},
   "outputs": [
    {
     "data": {
      "text/plain": [
       "<AxesSubplot: >"
      ]
     },
     "execution_count": 32,
     "metadata": {},
     "output_type": "execute_result"
    },
    {
     "data": {
      "image/png": "[encoded data removed]",
      "text/plain": [
       "<Figure size 576x576 with 1 Axes>"
      ]
     },
     "metadata": {},
     "output_type": "display_data"
    }
   ],
   "source": [
    "sns.set(rc={'figure.figsize':(8,8)})\n",
    "sns.boxplot(data=data[[\"Engine Speed\", \"Pressure\"]], width = 0.5, orient = \"h\", showfliers = False)"
   ]
  },
  {
   "attachments": {},
   "cell_type": "markdown",
   "id": "3645e872",
   "metadata": {},
   "source": [
    "<i>Assessment:</i>\n",
    "\n",
    "While there are no missing values, many outliers are noticeable in the visualizations - therefore, some of the intentionally generated anomalies can already be detected at this stage. When displaying the boxplots with the basic built-in outlier removal of the \"seaborn\" package enabled, it is visible that the data distribution does not correspond exactly to the range of valid values defined for our sensors (Proximity: 3.0-30.0 millimeters, Engine speed: 500-7000 RPM, Pressure: 1500-6000 bar), indicating the presence of anomalies that could not easily be detected as outliers because they are relatively close to the correct values. Additionally, the analysis shows that not every value is unique, with duplicate values occurring within one attribute as well as for combinations of two or even three attributes. However, this is not an issue and not unrealistic given the data types and the limited range of possible values for the attributes."
   ]
  },
  {
   "attachments": {},
   "cell_type": "markdown",
   "id": "7016e308",
   "metadata": {},
   "source": [
    "### Data preparation\n",
    "\n",
    "Since the data was generated for our specific purpose, we don't need to take most of the usual steps of data preparation. However, we still outline the process and some example methods below as with real data, it will most likely be necessary.\n",
    "\n",
    "<i>Selection:</i>\n",
    "\n",
    "In case this was necessary, the pandas \"loc\", \"iloc\" and \"at\" operators would be useful."
   ]
  },
  {
   "attachments": {},
   "cell_type": "markdown",
   "id": "2a7e1c06",
   "metadata": {},
   "source": [
    "<i>Cleaning:</i>\n",
    "\n",
    "At this point, rows with only null values (if there were any) could be dropped, like shown below."
   ]
  },
  {
   "cell_type": "code",
   "execution_count": 33,
   "id": "5a9495a9",
   "metadata": {},
   "outputs": [],
   "source": [
    "#data = data.dropna()"
   ]
  },
  {
   "attachments": {},
   "cell_type": "markdown",
   "id": "c5172703",
   "metadata": {},
   "source": [
    "<i>Construction:</i>\n",
    "\n",
    "If there were multiple datasets with differing attribute names or other differences, these would be renamed and joined or handled in another appropriate way at this stage, see example methods below."
   ]
  },
  {
   "cell_type": "code",
   "execution_count": 34,
   "id": "f00a52c4",
   "metadata": {},
   "outputs": [],
   "source": [
    "#data.columns = [\"column1\", \"column2\", \"column3\"]\n",
    "#data = pd.concat([data_subset1, data_subset2], ignore_index = True)"
   ]
  },
  {
   "attachments": {},
   "cell_type": "markdown",
   "id": "45c4f2e2",
   "metadata": {},
   "source": [
    "<i>Reduction:</i>\n",
    "\n",
    "At this stage, unneccessary / irrelevant data would be removed - for example, unwanted values could be identified and removed or replaced by other defined values, see example methods below."
   ]
  },
  {
   "cell_type": "code",
   "execution_count": 35,
   "id": "87354492",
   "metadata": {},
   "outputs": [],
   "source": [
    "#data[\"column\"].unique()\n",
    "#data = data.drop(data[data[\"column\"] == 'unwanted_value'].index)\n",
    "#data.loc[(data[\"column\"] == 'value_to_be_replaced'), 'column'] = new_value\n"
   ]
  },
  {
   "attachments": {},
   "cell_type": "markdown",
   "id": "877394ce",
   "metadata": {},
   "source": [
    "<i>Formatting:</i>\n",
    "\n",
    "As a final step before the modeling begins, the dataset could be formatted (if necessary) by renaming or rearranging columns, resetting the index or carrying out similar common actions."
   ]
  },
  {
   "attachments": {},
   "cell_type": "markdown",
   "id": "94851675",
   "metadata": {},
   "source": [
    "### Modeling\n",
    "\n",
    "<i>Technique:</i>\n",
    "\n",
    "We are dealing with labeled data and are therefore using classification methods. Of the available techniques to chose from, we have opted for these:\n",
    "\n",
    "* Logistic Regression\n",
    "* Support Vector Machine\n",
    "* Random Forest\n",
    "* Neural Network (Multi-layer Perceptron)\n",
    "\n",
    "To find the best solution, we are training four different models and are comparing their performance."
   ]
  },
  {
   "cell_type": "code",
   "execution_count": 36,
   "metadata": {},
   "outputs": [],
   "source": [
    "from sklearn.linear_model import LogisticRegression\n",
    "from sklearn import svm\n",
    "from sklearn.ensemble import RandomForestClassifier\n",
    "from sklearn.neural_network import MLPClassifier\n",
    "from sklearn.model_selection import train_test_split\n",
    "from sklearn.metrics import accuracy_score, f1_score, recall_score, precision_score"
   ]
  },
  {
   "attachments": {},
   "cell_type": "markdown",
   "metadata": {},
   "source": [
    "<i>Test design:</i>\n",
    "\n",
    "We are dividing the dataset into a training dataset and a test dataset, using the common 80/20 split."
   ]
  },
  {
   "cell_type": "code",
   "execution_count": 37,
   "metadata": {},
   "outputs": [],
   "source": [
    "X = data.loc[:, [\"Proximity\", \"Engine Speed\", \"Pressure\"]]\n",
    "y = data[\"Label\"]\n",
    "\n",
    "X_train, X_test, y_train, y_test = train_test_split(X, y, test_size=0.20, random_state=99)\n",
    "test_data = pd.concat([pd.DataFrame(X_test), pd.DataFrame(y_test)], axis=1)"
   ]
  },
  {
   "attachments": {},
   "cell_type": "markdown",
   "metadata": {},
   "source": [
    "<i>Building:</i>\n",
    "\n",
    "Next up, we are training the four models on the training dataset before they make predictions on the data of the test dataset."
   ]
  },
  {
   "cell_type": "code",
   "execution_count": 38,
   "metadata": {},
   "outputs": [],
   "source": [
    "# Logistic regression\n",
    "lr_model = LogisticRegression(solver='lbfgs', multi_class='auto')\n",
    "lr_model.fit(X_train, y_train)\n",
    "test_data[\"Logistic Regression\"] = lr_model.predict(X_test)\n",
    "\n",
    "# Support Vector Machine\n",
    "svm_model = svm.LinearSVC(dual = False)\n",
    "svm_model.fit(X_train, y_train)\n",
    "test_data[\"Support Vector Machine\"] = svm_model.predict(X_test)\n",
    "\n",
    "# Random Forest\n",
    "rf_model = RandomForestClassifier(n_estimators=100)\n",
    "rf_model.fit(X_train, y_train)\n",
    "test_data[\"Random Forest\"] = rf_model.predict(X_test)\n",
    "\n",
    "# Neural Network (Multi-layer Perceptron)\n",
    "nn_model = MLPClassifier(hidden_layer_sizes=(4, 4, 4, 4, 3), max_iter = 500, solver='adam', random_state=44)\n",
    "nn_model.fit(X_train, y_train)\n",
    "test_data[\"Neural Network\"] = nn_model.predict(X_test)"
   ]
  },
  {
   "attachments": {},
   "cell_type": "markdown",
   "metadata": {},
   "source": [
    "<i>Assessment:</i>\n",
    "\n",
    "Logistic Regression:"
   ]
  },
  {
   "cell_type": "code",
   "execution_count": 39,
   "metadata": {},
   "outputs": [
    {
     "data": {
      "text/html": [
       "<div>\n",
       "<style scoped>\n",
       "    .dataframe tbody tr th:only-of-type {\n",
       "        vertical-align: middle;\n",
       "    }\n",
       "\n",
       "    .dataframe tbody tr th {\n",
       "        vertical-align: top;\n",
       "    }\n",
       "\n",
       "    .dataframe thead th {\n",
       "        text-align: right;\n",
       "    }\n",
       "</style>\n",
       "<table border=\"1\" class=\"dataframe\">\n",
       "  <thead>\n",
       "    <tr style=\"text-align: right;\">\n",
       "      <th>Label</th>\n",
       "      <th>anomaly</th>\n",
       "      <th>correct</th>\n",
       "    </tr>\n",
       "    <tr>\n",
       "      <th>Logistic Regression</th>\n",
       "      <th></th>\n",
       "      <th></th>\n",
       "    </tr>\n",
       "  </thead>\n",
       "  <tbody>\n",
       "    <tr>\n",
       "      <th>anomaly</th>\n",
       "      <td>3096</td>\n",
       "      <td>0</td>\n",
       "    </tr>\n",
       "    <tr>\n",
       "      <th>correct</th>\n",
       "      <td>4129</td>\n",
       "      <td>232775</td>\n",
       "    </tr>\n",
       "  </tbody>\n",
       "</table>\n",
       "</div>"
      ],
      "text/plain": [
       "Label                anomaly  correct\n",
       "Logistic Regression                  \n",
       "anomaly                 3096        0\n",
       "correct                 4129   232775"
      ]
     },
     "execution_count": 39,
     "metadata": {},
     "output_type": "execute_result"
    }
   ],
   "source": [
    "y_prediction_lr = test_data[\"Logistic Regression\"]\n",
    "y_actual = test_data[\"Label\"]\n",
    "confusion_matrix_lr = pd.crosstab(y_prediction_lr, y_actual)\n",
    "confusion_matrix_lr"
   ]
  },
  {
   "cell_type": "code",
   "execution_count": 40,
   "metadata": {},
   "outputs": [
    {
     "name": "stdout",
     "output_type": "stream",
     "text": [
      "Accuracy: 98.28%\n",
      "Precision: 100.0%\n",
      "Recall: 42.85%\n",
      "F1 Score: 59.99%\n"
     ]
    }
   ],
   "source": [
    "print(f'Accuracy: {round(accuracy_score(y_actual, y_prediction_lr) * 100, 2)}%')\n",
    "print(f'Precision: {round(precision_score(y_actual, y_prediction_lr, pos_label=\"anomaly\") * 100, 2)}%')\n",
    "print(f'Recall: {round(recall_score(y_actual, y_prediction_lr, pos_label=\"anomaly\") * 100, 2)}%')\n",
    "print(f'F1 Score: {round(f1_score(y_actual, y_prediction_lr, pos_label=\"anomaly\") * 100, 2)}%')"
   ]
  },
  {
   "attachments": {},
   "cell_type": "markdown",
   "metadata": {},
   "source": [
    "Support Vector Machine:"
   ]
  },
  {
   "cell_type": "code",
   "execution_count": 41,
   "metadata": {},
   "outputs": [
    {
     "data": {
      "text/html": [
       "<div>\n",
       "<style scoped>\n",
       "    .dataframe tbody tr th:only-of-type {\n",
       "        vertical-align: middle;\n",
       "    }\n",
       "\n",
       "    .dataframe tbody tr th {\n",
       "        vertical-align: top;\n",
       "    }\n",
       "\n",
       "    .dataframe thead th {\n",
       "        text-align: right;\n",
       "    }\n",
       "</style>\n",
       "<table border=\"1\" class=\"dataframe\">\n",
       "  <thead>\n",
       "    <tr style=\"text-align: right;\">\n",
       "      <th>Label</th>\n",
       "      <th>anomaly</th>\n",
       "      <th>correct</th>\n",
       "    </tr>\n",
       "    <tr>\n",
       "      <th>Support Vector Machine</th>\n",
       "      <th></th>\n",
       "      <th></th>\n",
       "    </tr>\n",
       "  </thead>\n",
       "  <tbody>\n",
       "    <tr>\n",
       "      <th>anomaly</th>\n",
       "      <td>2845</td>\n",
       "      <td>0</td>\n",
       "    </tr>\n",
       "    <tr>\n",
       "      <th>correct</th>\n",
       "      <td>4380</td>\n",
       "      <td>232775</td>\n",
       "    </tr>\n",
       "  </tbody>\n",
       "</table>\n",
       "</div>"
      ],
      "text/plain": [
       "Label                   anomaly  correct\n",
       "Support Vector Machine                  \n",
       "anomaly                    2845        0\n",
       "correct                    4380   232775"
      ]
     },
     "execution_count": 41,
     "metadata": {},
     "output_type": "execute_result"
    }
   ],
   "source": [
    "y_prediction_svm = test_data[\"Support Vector Machine\"]\n",
    "y_actual = test_data[\"Label\"]\n",
    "confusion_matrix_svm = pd.crosstab(y_prediction_svm, y_actual)\n",
    "confusion_matrix_svm"
   ]
  },
  {
   "cell_type": "code",
   "execution_count": 42,
   "metadata": {},
   "outputs": [
    {
     "name": "stdout",
     "output_type": "stream",
     "text": [
      "Accuracy: 98.18%\n",
      "Precision: 100.0%\n",
      "Recall: 39.38%\n",
      "F1 Score: 56.5%\n"
     ]
    }
   ],
   "source": [
    "print(f'Accuracy: {round(accuracy_score(y_actual, y_prediction_svm) * 100, 2)}%')\n",
    "print(f'Precision: {round(precision_score(y_actual, y_prediction_svm, pos_label=\"anomaly\") * 100, 2)}%')\n",
    "print(f'Recall: {round(recall_score(y_actual, y_prediction_svm, pos_label=\"anomaly\") * 100, 2)}%')\n",
    "print(f'F1 Score: {round(f1_score(y_actual, y_prediction_svm, pos_label=\"anomaly\") * 100, 2)}%')"
   ]
  },
  {
   "attachments": {},
   "cell_type": "markdown",
   "metadata": {},
   "source": [
    "Random Forest:"
   ]
  },
  {
   "cell_type": "code",
   "execution_count": 43,
   "metadata": {},
   "outputs": [
    {
     "data": {
      "text/html": [
       "<div>\n",
       "<style scoped>\n",
       "    .dataframe tbody tr th:only-of-type {\n",
       "        vertical-align: middle;\n",
       "    }\n",
       "\n",
       "    .dataframe tbody tr th {\n",
       "        vertical-align: top;\n",
       "    }\n",
       "\n",
       "    .dataframe thead th {\n",
       "        text-align: right;\n",
       "    }\n",
       "</style>\n",
       "<table border=\"1\" class=\"dataframe\">\n",
       "  <thead>\n",
       "    <tr style=\"text-align: right;\">\n",
       "      <th>Label</th>\n",
       "      <th>anomaly</th>\n",
       "      <th>correct</th>\n",
       "    </tr>\n",
       "    <tr>\n",
       "      <th>Random Forest</th>\n",
       "      <th></th>\n",
       "      <th></th>\n",
       "    </tr>\n",
       "  </thead>\n",
       "  <tbody>\n",
       "    <tr>\n",
       "      <th>anomaly</th>\n",
       "      <td>6404</td>\n",
       "      <td>7</td>\n",
       "    </tr>\n",
       "    <tr>\n",
       "      <th>correct</th>\n",
       "      <td>821</td>\n",
       "      <td>232768</td>\n",
       "    </tr>\n",
       "  </tbody>\n",
       "</table>\n",
       "</div>"
      ],
      "text/plain": [
       "Label          anomaly  correct\n",
       "Random Forest                  \n",
       "anomaly           6404        7\n",
       "correct            821   232768"
      ]
     },
     "execution_count": 43,
     "metadata": {},
     "output_type": "execute_result"
    }
   ],
   "source": [
    "y_prediction_rf = test_data[\"Random Forest\"]\n",
    "y_actual = test_data[\"Label\"]\n",
    "confusion_matrix_rf = pd.crosstab(y_prediction_rf, y_actual)\n",
    "confusion_matrix_rf"
   ]
  },
  {
   "cell_type": "code",
   "execution_count": 44,
   "metadata": {},
   "outputs": [
    {
     "name": "stdout",
     "output_type": "stream",
     "text": [
      "Accuracy: 99.66%\n",
      "Precision: 99.89%\n",
      "Recall: 88.64%\n",
      "F1 Score: 93.93%\n"
     ]
    }
   ],
   "source": [
    "print(f'Accuracy: {round(accuracy_score(y_actual, y_prediction_rf) * 100, 2)}%')\n",
    "print(f'Precision: {round(precision_score(y_actual, y_prediction_rf, pos_label=\"anomaly\") * 100, 2)}%')\n",
    "print(f'Recall: {round(recall_score(y_actual, y_prediction_rf, pos_label=\"anomaly\") * 100, 2)}%')\n",
    "print(f'F1 Score: {round(f1_score(y_actual, y_prediction_rf, pos_label=\"anomaly\") * 100, 2)}%')"
   ]
  },
  {
   "attachments": {},
   "cell_type": "markdown",
   "metadata": {},
   "source": [
    "Neural Network (Multi-layer Perceptron):"
   ]
  },
  {
   "cell_type": "code",
   "execution_count": 45,
   "metadata": {},
   "outputs": [
    {
     "data": {
      "text/html": [
       "<div>\n",
       "<style scoped>\n",
       "    .dataframe tbody tr th:only-of-type {\n",
       "        vertical-align: middle;\n",
       "    }\n",
       "\n",
       "    .dataframe tbody tr th {\n",
       "        vertical-align: top;\n",
       "    }\n",
       "\n",
       "    .dataframe thead th {\n",
       "        text-align: right;\n",
       "    }\n",
       "</style>\n",
       "<table border=\"1\" class=\"dataframe\">\n",
       "  <thead>\n",
       "    <tr style=\"text-align: right;\">\n",
       "      <th>Label</th>\n",
       "      <th>anomaly</th>\n",
       "      <th>correct</th>\n",
       "    </tr>\n",
       "    <tr>\n",
       "      <th>Neural Network</th>\n",
       "      <th></th>\n",
       "      <th></th>\n",
       "    </tr>\n",
       "  </thead>\n",
       "  <tbody>\n",
       "    <tr>\n",
       "      <th>anomaly</th>\n",
       "      <td>4760</td>\n",
       "      <td>35</td>\n",
       "    </tr>\n",
       "    <tr>\n",
       "      <th>correct</th>\n",
       "      <td>2465</td>\n",
       "      <td>232740</td>\n",
       "    </tr>\n",
       "  </tbody>\n",
       "</table>\n",
       "</div>"
      ],
      "text/plain": [
       "Label           anomaly  correct\n",
       "Neural Network                  \n",
       "anomaly            4760       35\n",
       "correct            2465   232740"
      ]
     },
     "execution_count": 45,
     "metadata": {},
     "output_type": "execute_result"
    }
   ],
   "source": [
    "y_prediction_nn = test_data[\"Neural Network\"]\n",
    "y_actual = test_data[\"Label\"]\n",
    "confusion_matrix_nn = pd.crosstab(y_prediction_nn, y_actual)\n",
    "confusion_matrix_nn"
   ]
  },
  {
   "cell_type": "code",
   "execution_count": 46,
   "metadata": {},
   "outputs": [
    {
     "name": "stdout",
     "output_type": "stream",
     "text": [
      "Accuracy: 98.96%\n",
      "Precision: 99.27%\n",
      "Recall: 65.88%\n",
      "F1 Score: 79.2%\n"
     ]
    }
   ],
   "source": [
    "print(f'Accuracy: {round(accuracy_score(y_actual, y_prediction_nn) * 100, 2)}%')\n",
    "print(f'Precision: {round(precision_score(y_actual, y_prediction_nn, pos_label=\"anomaly\") * 100, 2)}%')\n",
    "print(f'Recall: {round(recall_score(y_actual, y_prediction_nn, pos_label=\"anomaly\") * 100, 2)}%')\n",
    "print(f'F1 Score: {round(f1_score(y_actual, y_prediction_nn, pos_label=\"anomaly\") * 100, 2)}%')"
   ]
  },
  {
   "attachments": {},
   "cell_type": "markdown",
   "metadata": {},
   "source": [
    "### Evaluation"
   ]
  },
  {
   "attachments": {},
   "cell_type": "markdown",
   "metadata": {},
   "source": [
    "To better assess and interpret the calculated scores, it is helpful to remember some definitions:\n",
    "\n",
    "TP = True Positives (predicted class positive, actual class positive) <br>\n",
    "TN = True Negatives (predicted class negative, actual class negative) <br>\n",
    "FP = False Positives (predicted class positive, actual class negative) <br>\n",
    "FN = False Negatives (predicted class negative, actual class positive) <br>\n",
    "\n",
    "$ Accuracy = {TP + TN \\over TP + FP + TN + FN}$ <br>\n",
    "\n",
    "$ Precision = {TP \\over TP + FP}$ <br>\n",
    "\n",
    "$ Recall = {TP \\over TP + FN}$ <br>\n",
    "\n",
    "$ F1 Score = {2 * {Precision * Recall \\over Precision + Recall}}$ <br>"
   ]
  },
  {
   "attachments": {},
   "cell_type": "markdown",
   "metadata": {},
   "source": [
    "For the interpretation of the scores, it is important to keep in mind the following aspects:\n",
    "\n",
    "1. According to the decision matrices, all four methods predict the actually correct values almost perfectly as correct.\n",
    "2. The matrices also show that predictions of the anomalies are not as successful, with big differences between the methods.\n",
    "3. Errors are mostly (non-detected) anomalies predicted as correct values (False Negatives), but hardly any correct values predicted as anomalies (False Positives).\n",
    "4. The correct rows make up 97% of all rows in the dataset, while the anomalies account for 3%.\n",
    "\n",
    "For all ML methods, accuracy and precision are high (>98%), while for the recall and precision, high values around 90% are only reached by the Random Forest model. Why is this the case?\n",
    "\n",
    "* The accuracy calculates the share of true predictions among all predictions - it is high because of the dataset's value distribution - see aspect 4 (and 1) above.\n",
    "* For the precision, recall, and F1 score, the positive class was specifically set to \"anomaly\" so that the target for defining TP/TN/FP/FN is clear:\n",
    "    * The precision is high because there are hardly any False Positives - see aspect 3 above.\n",
    "    * The recall is generally lower because it considers False Negatives - see aspect 3 above.\n",
    "    * Since the F1 score is dependent on the recall, it is lower too.\n",
    "\n",
    "After evaluating the different ML models, it is clear that for our purposes, the Random Forest model is the most suitable choice due to its vastly superior performance.\n",
    "\n",
    "Therefore, we will now save/persist our trained Random Forest model to use it for anomaly detection later."
   ]
  },
  {
   "attachments": {},
   "cell_type": "markdown",
   "metadata": {},
   "source": [
    "Persisting the model:"
   ]
  },
  {
   "cell_type": "code",
   "execution_count": 47,
   "metadata": {},
   "outputs": [
    {
     "name": "stdout",
     "output_type": "stream",
     "text": [
      "RandomForestClassifier()\n"
     ]
    }
   ],
   "source": [
    "import skops.io as sio\n",
    "\n",
    "# File name to be used\n",
    "file_name = \"data/trained_model.skops\"\n",
    "\n",
    "# Persist the model to a file\n",
    "sio.dump(obj = rf_model, file = file_name)\n",
    "\n",
    "# Load the model from the file\n",
    "trained_model = sio.load(file = file_name, trusted = True)\n",
    "print(trained_model)\n",
    "\n",
    "# Optional: for security reasons, first check the data types before loading the file\n",
    "# data_types = sio.get_untrusted_types(file = file_name)\n",
    "# print(data_types)\n",
    "# trained_model = sio.load(file = file_name, trusted = data_types)\n",
    "# print(trained_model)"
   ]
  },
  {
   "attachments": {},
   "cell_type": "markdown",
   "metadata": {},
   "source": [
    "### Deployment"
   ]
  },
  {
   "attachments": {},
   "cell_type": "markdown",
   "metadata": {},
   "source": [
    "Before the model can be used in practice, we will define two convenient functions. First, train_model() combines all of the previously shown code related to training the model:"
   ]
  },
  {
   "cell_type": "code",
   "execution_count": 48,
   "metadata": {},
   "outputs": [],
   "source": [
    "# Function to train a random forest model\n",
    "def train_model(data):\n",
    "    # Import libraries\n",
    "    import pandas as pd\n",
    "    import seaborn as sns\n",
    "    from sklearn.linear_model import LogisticRegression\n",
    "    from sklearn import svm\n",
    "    from sklearn.ensemble import RandomForestClassifier\n",
    "    from sklearn.neural_network import MLPClassifier\n",
    "    from sklearn.model_selection import train_test_split\n",
    "    from sklearn.metrics import accuracy_score, f1_score, recall_score, precision_score\n",
    "\n",
    "    # Load data\n",
    "    data = pd.read_csv(data)\n",
    "\n",
    "    # Select attributes\n",
    "    X = data.loc[:, [\"Proximity\", \"Engine Speed\", \"Pressure\"]]\n",
    "    y = data[\"Label\"]\n",
    "\n",
    "    # Split data in training and test data\n",
    "    X_train, X_test, y_train, y_test = train_test_split(X, y, test_size=0.20, random_state=99)\n",
    "    test_data = pd.concat([pd.DataFrame(X_test), pd.DataFrame(y_test)], axis=1)\n",
    "\n",
    "    # Train the Random Forest model\n",
    "    rf_model = RandomForestClassifier(n_estimators=100)\n",
    "    rf_model.fit(X_train, y_train)\n",
    "\n",
    "    # Make predictions\n",
    "    test_data[\"Random Forest\"] = rf_model.predict(X_test)\n",
    "\n",
    "    # Evaluation: create a confusion matrix\n",
    "    y_prediction_rf = test_data[\"Random Forest\"]\n",
    "    y_actual = test_data[\"Label\"]\n",
    "    confusion_matrix_rf = pd.crosstab(y_prediction_rf, y_actual)\n",
    "    # Outside of Jupyter, use print() instead of display()\n",
    "    display(confusion_matrix_rf)\n",
    "\n",
    "    # Evaluation: calculate performance metrics\n",
    "    print(f'Accuracy: {round(accuracy_score(y_actual, y_prediction_rf) * 100, 2)}%')\n",
    "    print(f'Precision: {round(precision_score(y_actual, y_prediction_rf, pos_label=\"anomaly\") * 100, 2)}%')\n",
    "    print(f'Recall: {round(recall_score(y_actual, y_prediction_rf, pos_label=\"anomaly\") * 100, 2)}%')\n",
    "    print(f'F1 Score: {round(f1_score(y_actual, y_prediction_rf, pos_label=\"anomaly\") * 100, 2)}%')"
   ]
  },
  {
   "attachments": {},
   "cell_type": "markdown",
   "metadata": {},
   "source": [
    "Secondly, detect_anomalies() loads a trained model and uses it on unseen data to predict anomalies:"
   ]
  },
  {
   "cell_type": "code",
   "execution_count": 49,
   "metadata": {},
   "outputs": [],
   "source": [
    "# Function to apply the trained model and make predictions\n",
    "def detect_anomalies(data_row):\n",
    "    # Load libraries\n",
    "    import skops.io as sio\n",
    "\n",
    "    # Load the model from the file\n",
    "    trained_model = sio.load(file = \"data/trained_model.skops\", trusted = True)\n",
    "\n",
    "    # Make prediction and print result\n",
    "    if(trained_model.predict(data_row) == \"correct\"):\n",
    "        print(\"No anomaly was detected ✅\")\n",
    "        return \"correct\"\n",
    "    else:\n",
    "        print(\"An anomaly was detected ❌\")\n",
    "        return \"anomaly\""
   ]
  },
  {
   "attachments": {},
   "cell_type": "markdown",
   "metadata": {},
   "source": [
    "Let's try out the function on two example data rows, one we know is correct and one we know is an anomaly:"
   ]
  },
  {
   "cell_type": "code",
   "execution_count": 50,
   "metadata": {},
   "outputs": [
    {
     "name": "stdout",
     "output_type": "stream",
     "text": [
      "No anomaly was detected ✅\n",
      "An anomaly was detected ❌\n"
     ]
    }
   ],
   "source": [
    "data = pd.read_csv(\"data/data.csv\")\n",
    "\n",
    "correct_data_row = data.loc[0:0, [\"Proximity\", \"Engine Speed\", \"Pressure\"]]\n",
    "anomaly_data_row = data.loc[36:36, [\"Proximity\", \"Engine Speed\", \"Pressure\"]]\n",
    "\n",
    "test_1 = detect_anomalies(correct_data_row)\n",
    "test_2 = detect_anomalies(anomaly_data_row)"
   ]
  },
  {
   "attachments": {},
   "cell_type": "markdown",
   "metadata": {},
   "source": [
    "As we can see, the detection of anomalies behaves as expected in these two example cases."
   ]
  }
 ],
 "metadata": {
  "kernelspec": {
   "display_name": "Python 3.10.0 64-bit",
   "language": "python",
   "name": "python3"
  },
  "language_info": {
   "codemirror_mode": {
    "name": "ipython",
    "version": 3
   },
   "file_extension": ".py",
   "mimetype": "text/x-python",
   "name": "python",
   "nbconvert_exporter": "python",
   "pygments_lexer": "ipython3",
   "version": "3.10.0 (v3.10.0:b494f5935c, Oct  4 2021, 14:59:19) [Clang 12.0.5 (clang-1205.0.22.11)]"
  },
  "orig_nbformat": 4,
  "vscode": {
   "interpreter": {
    "hash": "aee8b7b246df8f9039afb4144a1f6fd8d2ca17a180786b69acc140d282b71a49"
   }
  }
 },
 "nbformat": 4,
 "nbformat_minor": 2
}
